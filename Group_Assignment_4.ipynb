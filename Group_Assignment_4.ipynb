{
  "nbformat": 4,
  "nbformat_minor": 0,
  "metadata": {
    "colab": {
      "name": "Group Assignment 4.ipynb",
      "provenance": [],
      "collapsed_sections": []
    },
    "kernelspec": {
      "name": "python3",
      "display_name": "Python 3"
    }
  },
  "cells": [
    {
      "cell_type": "markdown",
      "metadata": {
        "id": "dnaFCm1jGQdn",
        "colab_type": "text"
      },
      "source": [
        "**Updated ER Diagram:**\n",
        "\n",
        "![](https://drive.google.com/uc?export=view&id=1cp6guZbRJbMnTNE3YGFi68FI4HoXSSJS)\n",
        "\n",
        "\n",
        "\n",
        "\n",
        "\n",
        "\n"
      ]
    },
    {
      "cell_type": "code",
      "metadata": {
        "id": "VulywpwQrm5J",
        "colab_type": "code",
        "colab": {}
      },
      "source": [
        "import sqlite3 "
      ],
      "execution_count": 0,
      "outputs": []
    },
    {
      "cell_type": "code",
      "metadata": {
        "id": "bJ7QCXDtro61",
        "colab_type": "code",
        "colab": {}
      },
      "source": [
        "# connect to database, if not there, create it.\n",
        "connectionToDatabase = sqlite3.connect('GrubHubData') "
      ],
      "execution_count": 0,
      "outputs": []
    },
    {
      "cell_type": "code",
      "metadata": {
        "id": "8VZxja_Yr44H",
        "colab_type": "code",
        "colab": {}
      },
      "source": [
        "cursor = connectionToDatabase.cursor()"
      ],
      "execution_count": 0,
      "outputs": []
    },
    {
      "cell_type": "code",
      "metadata": {
        "id": "rsW9ADU-spSE",
        "colab_type": "code",
        "colab": {}
      },
      "source": [
        "cursor.execute('''drop table IF EXISTS FoodItem ''')\n",
        "connectionToDatabase.commit()\n",
        "cursor.execute('''create table IF NOT EXISTS FoodItem (FoodID real PRIMARY KEY, Item Name text, RestaurantID real, Price text, Quantity text)''')\n",
        "connectionToDatabase.commit()"
      ],
      "execution_count": 0,
      "outputs": []
    },
    {
      "cell_type": "code",
      "metadata": {
        "id": "Mg1EEgAXtEiw",
        "colab_type": "code",
        "colab": {}
      },
      "source": [
        "cursor.execute('''insert into FoodItem values (1001, 'Pad Thai', 1100, '$9', '1 bowl'), (1002, 'Cheese Pizza', 1200, '$3', '1 slice'), (1003, 'Chicken Fried Rice', 1300, '$8', '1 bowl'), (1004, 'Fish Tacos', 1400, '$12', '3 tacos'), (1005, 'Chicken Wings', 1500, '$8', '8 wings');''')\n",
        "connectionToDatabase.commit()"
      ],
      "execution_count": 0,
      "outputs": []
    },
    {
      "cell_type": "code",
      "metadata": {
        "id": "0aUA5tgewp-E",
        "colab_type": "code",
        "outputId": "f10e682f-9fb6-4d8a-be93-a39b287cbf4f",
        "colab": {
          "base_uri": "https://localhost:8080/",
          "height": 54
        }
      },
      "source": [
        "cursor.execute('''select * from FoodItem;''')\n",
        "print (cursor.fetchall())"
      ],
      "execution_count": 0,
      "outputs": [
        {
          "output_type": "stream",
          "text": [
            "[(1001.0, 'Pad Thai', 1100.0, '$9', '1 bowl'), (1002.0, 'Cheese Pizza', 1200.0, '$3', '1 slice'), (1003.0, 'Chicken Fried Rice', 1300.0, '$8', '1 bowl'), (1004.0, 'Fish Tacos', 1400.0, '$12', '3 tacos'), (1005.0, 'Chicken Wings', 1500.0, '$8', '8 wings')]\n"
          ],
          "name": "stdout"
        }
      ]
    },
    {
      "cell_type": "code",
      "metadata": {
        "id": "-T7BLjzZzbyF",
        "colab_type": "code",
        "colab": {}
      },
      "source": [
        "cursor.execute('''drop table IF EXISTS Customer ''')\n",
        "connectionToDatabase.commit()\n",
        "cursor.execute('''create table IF NOT EXISTS Customer (CustomerID real PRIMARY KEY, FName text, LName text, DOB text, Phone Number text, LastTransactionID real, TransactionID real)''')\n",
        "connectionToDatabase.commit()"
      ],
      "execution_count": 0,
      "outputs": []
    },
    {
      "cell_type": "code",
      "metadata": {
        "id": "_RIPRZc_0rPa",
        "colab_type": "code",
        "colab": {}
      },
      "source": [
        "cursor.execute('''insert into Customer values (2004.0, 'Sam', 'Robinson', '07/05/1991', '(256) 753-3489', 1504.0, 1604.0), (2000.0, 'Josh', 'Bezos', '01/10/1981', '(450) 852-9021', 1500.0, 1600.0), (2001.0, 'Jeff', 'Wex', '04/15/1983', '(485) 811-3752', 1501.0, 1601.0), (2002.0, 'Danny', 'Glickman', '11/11/1998', '(267) 810-3412', 1502.0, 1602.0), (2003.0, 'Chloe', 'Saunders', '09/10/1984', '(267) 813-3469', 1503.0, 1603.0);''')\n",
        "connectionToDatabase.commit()"
      ],
      "execution_count": 0,
      "outputs": []
    },
    {
      "cell_type": "code",
      "metadata": {
        "id": "4Yy49KjM0uE5",
        "colab_type": "code",
        "outputId": "85c3d193-b4f9-4ffd-dab9-8217ea875b9e",
        "colab": {
          "base_uri": "https://localhost:8080/",
          "height": 54
        }
      },
      "source": [
        "cursor.execute('''select * from Customer;''')\n",
        "print (cursor.fetchall())"
      ],
      "execution_count": 0,
      "outputs": [
        {
          "output_type": "stream",
          "text": [
            "[(2004.0, 'Sam', 'Robinson', '07/05/1991', '(256) 753-3489', 1504.0, 1604.0), (2000.0, 'Josh', 'Bezos', '01/10/1981', '(450) 852-9021', 1500.0, 1600.0), (2001.0, 'Jeff', 'Wex', '04/15/1983', '(485) 811-3752', 1501.0, 1601.0), (2002.0, 'Danny', 'Glickman', '11/11/1998', '(267) 810-3412', 1502.0, 1602.0), (2003.0, 'Chloe', 'Saunders', '09/10/1984', '(267) 813-3469', 1503.0, 1603.0)]\n"
          ],
          "name": "stdout"
        }
      ]
    },
    {
      "cell_type": "code",
      "metadata": {
        "id": "X7t4dK_I4IPp",
        "colab_type": "code",
        "colab": {}
      },
      "source": [
        "cursor.execute('''drop table IF EXISTS Restaurant ''')\n",
        "connectionToDatabase.commit()\n",
        "cursor.execute('''create table IF NOT EXISTS Restaurant (RestaurantID real PRIMARY KEY, Restaurant Name, Address text, City text, State text, Zip Code text, AvgRating real)''')\n",
        "connectionToDatabase.commit()"
      ],
      "execution_count": 0,
      "outputs": []
    },
    {
      "cell_type": "code",
      "metadata": {
        "id": "Kx313nVJ5uGJ",
        "colab_type": "code",
        "colab": {}
      },
      "source": [
        "cursor.execute('''insert into Restaurant values (1100.0, 'Big Bowl', '418 E College Ave', 'State College', 'Pennsylvania', '16801', 4.6), (1200.0, 'Pizza Hut', '760 S Atherton St', 'State College', 'Pennsylvania', '16801', 3.7), (1300.0, 'Tadashi', '206 W College Ave', 'State College', 'Pennsylvania', '16801', 4.4), (1400.0, 'Qdoba', '208 W College Ave', 'State College', 'Pennsylvania', '16801', 4.3), (1500.0, 'Wings Over Happy Valley', '244 W Hamilton Ave', 'Jamison', 'Pennsylvania', '18929', 4.1);''')\n",
        "connectionToDatabase.commit()"
      ],
      "execution_count": 0,
      "outputs": []
    },
    {
      "cell_type": "code",
      "metadata": {
        "id": "Jha33ApC5xFI",
        "colab_type": "code",
        "outputId": "8b78d4ee-34eb-4435-e8c2-594c94f849a8",
        "colab": {
          "base_uri": "https://localhost:8080/",
          "height": 54
        }
      },
      "source": [
        "cursor.execute('''select * from Restaurant;''')\n",
        "print (cursor.fetchall())"
      ],
      "execution_count": 0,
      "outputs": [
        {
          "output_type": "stream",
          "text": [
            "[(1100.0, 'Big Bowl', '418 E College Ave', 'State College', 'Pennsylvania', '16801', 4.6), (1200.0, 'Pizza Hut', '760 S Atherton St', 'State College', 'Pennsylvania', '16801', 3.7), (1300.0, 'Tadashi', '206 W College Ave', 'State College', 'Pennsylvania', '16801', 4.4), (1400.0, 'Qdoba', '208 W College Ave', 'State College', 'Pennsylvania', '16801', 4.3), (1500.0, 'Wings Over Happy Valley', '244 W Hamilton Ave', 'Jamison', 'Pennsylvania', '18929', 4.1)]\n"
          ],
          "name": "stdout"
        }
      ]
    },
    {
      "cell_type": "code",
      "metadata": {
        "id": "KiuuYYtWFg3c",
        "colab_type": "code",
        "colab": {}
      },
      "source": [
        "cursor.execute('''drop table IF EXISTS OrderTransaction ''')\n",
        "connectionToDatabase.commit()\n",
        "cursor.execute('''create table IF NOT EXISTS OrderTransaction (TransactionID real PRIMARY KEY, RestaurantID real, CustomerID real, OrderDate text, OrderTime text, ArrivalTime text)''')\n",
        "connectionToDatabase.commit()"
      ],
      "execution_count": 0,
      "outputs": []
    },
    {
      "cell_type": "code",
      "metadata": {
        "id": "nh_eIcl0Fo94",
        "colab_type": "code",
        "colab": {}
      },
      "source": [
        "cursor.execute('''insert into OrderTransaction values (4001.0, 1100.0, 2000.0, '10/25/2019', '3:03 PM', '4:00 PM'), (4002.0, 1200.0, 2001.0, '09/22/2019', '12:24 PM', '1:15 PM'), (4003.0, 1300.0, 2002.0, '11/05/2019', '4:14 PM', '5:01 PM'), (4004.0, 1400.0, 2003.0, '11/10/2019', '1:23 PM', '1:45 PM'), (4005.0, 1500.0, 2004.0, '10/18/2019', '2:46 PM', '3:30 PM');''')\n",
        "connectionToDatabase.commit()"
      ],
      "execution_count": 0,
      "outputs": []
    },
    {
      "cell_type": "code",
      "metadata": {
        "id": "GRYAfW_yFq89",
        "colab_type": "code",
        "outputId": "d7c93443-6521-4473-ed9e-7d224a1f4d11",
        "colab": {
          "base_uri": "https://localhost:8080/",
          "height": 54
        }
      },
      "source": [
        "cursor.execute('''select * from OrderTransaction;''')\n",
        "print (cursor.fetchall())"
      ],
      "execution_count": 0,
      "outputs": [
        {
          "output_type": "stream",
          "text": [
            "[(4001.0, 1100.0, 2000.0, '10/25/2019', '3:03 PM', '4:00 PM'), (4002.0, 1200.0, 2001.0, '09/22/2019', '12:24 PM', '1:15 PM'), (4003.0, 1300.0, 2002.0, '11/05/2019', '4:14 PM', '5:01 PM'), (4004.0, 1400.0, 2003.0, '11/10/2019', '1:23 PM', '1:45 PM'), (4005.0, 1500.0, 2004.0, '10/18/2019', '2:46 PM', '3:30 PM')]\n"
          ],
          "name": "stdout"
        }
      ]
    },
    {
      "cell_type": "code",
      "metadata": {
        "id": "d_zrLzhoKLGc",
        "colab_type": "code",
        "colab": {}
      },
      "source": [
        "cursor.execute('''drop table IF EXISTS FoodInformation ''')\n",
        "connectionToDatabase.commit()\n",
        "cursor.execute('''create table IF NOT EXISTS FoodInformation (FoodInfoID real PRIMARY KEY, FoodID real, FoodCategory text, MealType text, Calories real)''')\n",
        "connectionToDatabase.commit()"
      ],
      "execution_count": 0,
      "outputs": []
    },
    {
      "cell_type": "code",
      "metadata": {
        "id": "1sEd6l_QKNUn",
        "colab_type": "code",
        "colab": {}
      },
      "source": [
        "cursor.execute('''insert into FoodInformation values (3001.0, 1001.0, 'Asian', 'Lunch', 950.0), (3002.0, 1002.0, 'Italian', 'Dinner', 320.0), (3003.0, 1003.0, 'Asian', 'Lunch', 1015.0), (3004.0, 1004.0, 'Mexican', 'Dinner', 750.0), (3005.0, 1005.0, 'American', 'Lunch', 980.0);''')\n",
        "connectionToDatabase.commit()"
      ],
      "execution_count": 0,
      "outputs": []
    },
    {
      "cell_type": "code",
      "metadata": {
        "id": "crblA59FKO_E",
        "colab_type": "code",
        "outputId": "ea32f275-c88a-49e0-c1be-f6ff1403a4bc",
        "colab": {
          "base_uri": "https://localhost:8080/",
          "height": 54
        }
      },
      "source": [
        "cursor.execute('''select * from FoodInformation;''')\n",
        "print (cursor.fetchall())"
      ],
      "execution_count": 0,
      "outputs": [
        {
          "output_type": "stream",
          "text": [
            "[(3001.0, 1001.0, 'Asian', 'Lunch', 950.0), (3002.0, 1002.0, 'Italian', 'Dinner', 320.0), (3003.0, 1003.0, 'Asian', 'Lunch', 1015.0), (3004.0, 1004.0, 'Mexican', 'Dinner', 750.0), (3005.0, 1005.0, 'American', 'Lunch', 980.0)]\n"
          ],
          "name": "stdout"
        }
      ]
    },
    {
      "cell_type": "code",
      "metadata": {
        "id": "OVDv5MRHMC6d",
        "colab_type": "code",
        "colab": {}
      },
      "source": [
        "cursor.execute('''drop table IF EXISTS RecommendedRestaurantList ''')\n",
        "connectionToDatabase.commit()\n",
        "cursor.execute('''create table IF NOT EXISTS RecommendedRestaurantList (RecommendedListID real PRIMARY KEY, CustomerID real, RecommendedRestaurant1 text, RecommendedRestaurant2 text, RecommendedRestaurant3 text)''')\n",
        "connectionToDatabase.commit()"
      ],
      "execution_count": 0,
      "outputs": []
    },
    {
      "cell_type": "code",
      "metadata": {
        "id": "ZVJV13vpMs1A",
        "colab_type": "code",
        "colab": {}
      },
      "source": [
        "cursor.execute('''insert into RecommendedRestaurantList values (9001.0, 2000.0, 'Wings Over Happy Valley', 'Panera Bread', 'Babys'), (9002.0, 2001.0, 'Yallah Taco', 'Tadashi', 'Duck Donuts'), (9003.0, 2002.0, 'Momotaro', 'McDonalds', 'Burger King'), (9004.0, 2003.0, 'Waker Chicken', 'Playa Bowl', 'Frutta'), (9005.0, 2004.0, 'India Pavilion', 'Big Bite', 'Royal Halal');''')\n",
        "connectionToDatabase.commit()"
      ],
      "execution_count": 0,
      "outputs": []
    },
    {
      "cell_type": "code",
      "metadata": {
        "id": "jlTRgl1SM1MJ",
        "colab_type": "code",
        "outputId": "13d162cd-4961-4d09-f5b6-82ea10daf9ef",
        "colab": {
          "base_uri": "https://localhost:8080/",
          "height": 54
        }
      },
      "source": [
        "cursor.execute('''select * from RecommendedRestaurantList;''')\n",
        "print (cursor.fetchall())"
      ],
      "execution_count": 0,
      "outputs": [
        {
          "output_type": "stream",
          "text": [
            "[(9001.0, 2000.0, 'Wings Over Happy Valley', 'Panera Bread', 'Babys'), (9002.0, 2001.0, 'Yallah Taco', 'Tadashi', 'Duck Donuts'), (9003.0, 2002.0, 'Momotaro', 'McDonalds', 'Burger King'), (9004.0, 2003.0, 'Waker Chicken', 'Playa Bowl', 'Frutta'), (9005.0, 2004.0, 'India Pavilion', 'Big Bite', 'Royal Halal')]\n"
          ],
          "name": "stdout"
        }
      ]
    },
    {
      "cell_type": "markdown",
      "metadata": {
        "id": "lo994gsPO4Nw",
        "colab_type": "text"
      },
      "source": [
        "\n",
        "\n",
        "---\n",
        "\n",
        "**Question 1:** Which foods (top 3) have the most expensive prices in all the restaurants? "
      ]
    },
    {
      "cell_type": "code",
      "metadata": {
        "id": "GhFVa4cebIIK",
        "colab_type": "code",
        "outputId": "8546ea74-d448-4691-9d8f-da183f7048fe",
        "colab": {
          "base_uri": "https://localhost:8080/",
          "height": 67
        }
      },
      "source": [
        "cursor.execute('''select Item Name, Price from FoodItem ORDER BY Price DESC limit 3''')\n",
        "for row in cursor.fetchall():\n",
        "  print (row)"
      ],
      "execution_count": 0,
      "outputs": [
        {
          "output_type": "stream",
          "text": [
            "('Pad Thai', '$9')\n",
            "('Chicken Fried Rice', '$8')\n",
            "('Chicken Wings', '$8')\n"
          ],
          "name": "stdout"
        }
      ]
    },
    {
      "cell_type": "markdown",
      "metadata": {
        "id": "bvlQDmIpGLwc",
        "colab_type": "text"
      },
      "source": [
        "**Explanation:** \n",
        "This question is important to the diagram because it will allow the application to categorize different food items based on price from highest to lowest. The data further allows the user to specifically choose if they are interested in purchasing more expensive or cheaper food options. The results aligned with our expectations seeing as the items with the highest prices listed would make sense compared to the selection for a college student.\n",
        "\n",
        "---\n",
        "\n"
      ]
    },
    {
      "cell_type": "markdown",
      "metadata": {
        "id": "Qdpqpvv_EMnG",
        "colab_type": "text"
      },
      "source": [
        "**Question 2:** Which restaurants have the highest average rating?"
      ]
    },
    {
      "cell_type": "code",
      "metadata": {
        "id": "RiQyOQb6Et9j",
        "colab_type": "code",
        "outputId": "6d978663-2ad3-4b23-f43c-883400b8af2c",
        "colab": {
          "base_uri": "https://localhost:8080/",
          "height": 101
        }
      },
      "source": [
        "cursor.execute('''select Restaurant Name, AvgRating from Restaurant ORDER BY AvgRating DESC''')\n",
        "for row in cursor.fetchall():\n",
        "  print (row)"
      ],
      "execution_count": 0,
      "outputs": [
        {
          "output_type": "stream",
          "text": [
            "('Big Bowl', 4.6)\n",
            "('Tadashi', 4.4)\n",
            "('Qdoba', 4.3)\n",
            "('Wings Over Happy Valley', 4.1)\n",
            "('Pizza Hut', 3.7)\n"
          ],
          "name": "stdout"
        }
      ]
    },
    {
      "cell_type": "markdown",
      "metadata": {
        "id": "OrKScgRWGRv2",
        "colab_type": "text"
      },
      "source": [
        "**Explanation:** \n",
        "This question is significant for the project because it provides us with a list ordering the restaurants from those with the highest ratings to the lowest. The results can assist the end user in selecting a restaurant with the best reviews and quality possible. The outcome matched our assumptions since the top rated restaurants are similar to the most popular in the area.\n",
        "\n",
        "---\n",
        "\n"
      ]
    },
    {
      "cell_type": "markdown",
      "metadata": {
        "id": "jyWrvmaIFRR1",
        "colab_type": "text"
      },
      "source": [
        "**Question 3:** At what times was the food ordered and delivered to the customers?"
      ]
    },
    {
      "cell_type": "code",
      "metadata": {
        "id": "jQounupwFrPQ",
        "colab_type": "code",
        "outputId": "2ab0fb78-fabd-4c86-dc84-3d0f78027c7c",
        "colab": {
          "base_uri": "https://localhost:8080/",
          "height": 101
        }
      },
      "source": [
        "cursor.execute('''select TransactionID, OrderTime, ArrivalTime from OrderTransaction ORDER BY TransactionID''')\n",
        "for row in cursor.fetchall():\n",
        "  print (row)"
      ],
      "execution_count": 0,
      "outputs": [
        {
          "output_type": "stream",
          "text": [
            "(4001.0, '3:03 PM', '4:00 PM')\n",
            "(4002.0, '12:24 PM', '1:15 PM')\n",
            "(4003.0, '4:14 PM', '5:01 PM')\n",
            "(4004.0, '1:23 PM', '1:45 PM')\n",
            "(4005.0, '2:46 PM', '3:30 PM')\n"
          ],
          "name": "stdout"
        }
      ]
    },
    {
      "cell_type": "markdown",
      "metadata": {
        "id": "nsj_cQQtGakM",
        "colab_type": "text"
      },
      "source": [
        " **Explanation:** The time the food was ordered \n",
        " and delivered to the customers is important because it \n",
        " allows the system to keep transactions in order. The time can assist in helping the user pick which restaurant they want to \n",
        " order from due to knowing their previous and known order times. \n",
        "the customers is important because it allows the system to keep transactions in order. The time can assist in helping the user pick which restaurant they want to order from due to knowing their previous and known order times. This did match our expectations because it gave an accurate estimation to the common order times to help the user.\n",
        "\n",
        "---\n",
        "\n",
        "\n"
      ]
    }
  ]
}